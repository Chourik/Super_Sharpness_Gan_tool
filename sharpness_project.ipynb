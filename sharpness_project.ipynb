{
 "cells": [
  {
   "cell_type": "code",
   "execution_count": 58,
   "id": "12a873c2-8822-40ef-92b9-641fd6f28342",
   "metadata": {},
   "outputs": [],
   "source": [
    "import numpy as np\n",
    "import matplotlib.pyplot as plt\n",
    "from PIL import Image, ImageDraw\n",
    "from skimage.transform import resize\n",
    "from skimage.transform import rescale\n",
    "from keras.layers.core import Activation\n",
    "from tensorflow.keras.layers import BatchNormalization\n",
    "from keras.layers.convolutional import UpSampling2D\n",
    "from keras.layers import Input\n",
    "from keras.layers.convolutional import Conv2D, Conv2DTranspose\n",
    "from keras.models import Model\n",
    "from keras.layers import ELU, PReLU, LeakyReLU\n",
    "from keras.layers import add\n",
    "from keras.layers import Dense\n",
    "from keras.layers.core import Flatten\n",
    "from keras.applications.vgg19 import VGG19\n",
    "from tensorflow.keras.optimizers import Adam\n",
    "import keras.backend as K\n",
    "import tensorflow as tf\n",
    "from keras.models import Model\n",
    "from tensorflow.keras.models import load_model\n",
    "import os \n",
    "import sys\n",
    "import fiftyone.zoo as foz\n",
    "import fiftyone as fo\n",
    "from tqdm import tqdm\n",
    "import cv2"
   ]
  },
  {
   "attachments": {},
   "cell_type": "markdown",
   "id": "0e620ba5",
   "metadata": {},
   "source": [
    "inspiré librement du GitHub suivant : https://github.com/deepak112/Keras-SRGAN"
   ]
  },
  {
   "cell_type": "code",
   "execution_count": 23,
   "id": "aaea3131-cf80-4d3e-ace0-56de0683e26e",
   "metadata": {},
   "outputs": [],
   "source": [
    "PATH = '/home/jovyan/my_work/'"
   ]
  },
  {
   "cell_type": "markdown",
   "id": "e074329f-1a4e-4d96-ac00-9d253bbc7c70",
   "metadata": {},
   "source": [
    "## Image Preprocessing"
   ]
  },
  {
   "cell_type": "code",
   "execution_count": 24,
   "id": "555c8908-f119-4819-9048-c2240b8babae",
   "metadata": {},
   "outputs": [],
   "source": [
    "### Image preprocessing\n",
    "# Takes list of images and provide HR images in form of numpy array\n",
    "def hr_images(images):\n",
    "    images_hr = np.array(images)\n",
    "    ##we normalize the images\n",
    "    images_hr_norm = (images_hr - 127.5)/127.5 \n",
    "    print('here_hr')\n",
    "    return images_hr_norm\n",
    "\n",
    "def downscale_image(image, n):\n",
    "    return rescale(image, 1/n, anti_aliasing=True, multichannel=True)\n",
    "\n",
    "# Takes list of images and provide LR images in form of numpy array\n",
    "def lr_images(images_real , downscale):\n",
    "    \"\"\"\n",
    "    Process a dataset of images and return a new array with low-resolution images.\n",
    "    \n",
    "    Parameters:\n",
    "    X_train (numpy array): The dataset of images as a numpy array.\n",
    "    n (int): The downscaling factor.\n",
    "    \n",
    "    Returns:\n",
    "    numpy array: The dataset with low-resolution images as a numpy array.\n",
    "    \"\"\"\n",
    "    X_train_lowresolution = []\n",
    "    for image in X_train:\n",
    "        low_res_image = downscale_image(image, downscale)\n",
    "        X_train_lowresolution.append(low_res_image)\n",
    "    return X_train_lowresolution\n",
    "\n",
    "\n",
    "# Subpixel Conv will upsample from (h, w, c) to (h/r, w/r, c/r^2)\n",
    "def SubpixelConv2D(input_shape, scale=4):\n",
    "    def subpixel_shape(input_shape):\n",
    "        dims = [input_shape[0],input_shape[1] * scale,input_shape[2] * scale,int(input_shape[3] / (scale ** 2))]\n",
    "        output_shape = tuple(dims)\n",
    "        return output_shape\n",
    "    \n",
    "    def subpixel(x):\n",
    "        return tf.nn.depth_to_space(x, scale)\n",
    "    return Lambda(subpixel, output_shape=subpixel_shape)\n",
    "\n",
    "def normalize(input_data):\n",
    "    return (input_data.astype(np.float32) - 127.5)/127.5 \n",
    "    \n",
    "def denormalize(input_data):\n",
    "    input_data = (input_data + 1) * 127.5\n",
    "    return input_data.astype(np.uint8)"
   ]
  },
  {
   "cell_type": "markdown",
   "id": "ac39518d-14f6-4c91-be09-6f14d8865a59",
   "metadata": {},
   "source": [
    "## Dataset (COCO)"
   ]
  },
  {
   "cell_type": "code",
   "execution_count": 13,
   "id": "b956816a-b65e-4d8e-b710-a109b8aa1c7b",
   "metadata": {},
   "outputs": [
    {
     "name": "stdout",
     "output_type": "stream",
     "text": [
      "Downloading split 'train' to '/home/jovyan/my_work//train/train' if necessary\n",
      "Found annotations at '/home/jovyan/my_work/train/raw/instances_train2017.json'\n",
      "Sufficient images already downloaded\n",
      "Existing download of split 'train' is sufficient\n",
      "Loading existing dataset 'coco-2017-train-2000'. To reload from disk, either delete the existing dataset or provide a custom `dataset_name` to use\n"
     ]
    }
   ],
   "source": [
    "# To download the COCO dataset for only the \"person\" and \"car\" classes\n",
    "dataset = foz.load_zoo_dataset(\n",
    "    \"coco-2017\",\n",
    "    split=\"train\",\n",
    "    label_types=[\"detections\", \"segmentations\"],\n",
    "    classes=[\"person\", \"dog\"],\n",
    "    max_samples=2000,\n",
    "    dataset_dir = PATH + '/train/'\n",
    ")"
   ]
  },
  {
   "cell_type": "code",
   "execution_count": 15,
   "id": "c6621413-277b-4c14-bf25-02ccff9f398b",
   "metadata": {},
   "outputs": [],
   "source": [
    "# Visualize the dataset in the FiftyOne App\n",
    "#import fiftyone as fo\n",
    "#session = fo.launch_app(dataset)"
   ]
  },
  {
   "cell_type": "code",
   "execution_count": 16,
   "id": "d95c89be-4519-4a72-b119-047741a10fcd",
   "metadata": {},
   "outputs": [
    {
     "name": "stdout",
     "output_type": "stream",
     "text": [
      "Downloading split 'validation' to '/home/jovyan/my_work//validation/validation' if necessary\n",
      "Downloading annotations to '/home/jovyan/my_work//validation/tmp-download/annotations_trainval2017.zip'\n",
      " 100% |██████|    1.9Gb/1.9Gb [39.4s elapsed, 0s remaining, 117.3Mb/s]      \n",
      "Extracting annotations to '/home/jovyan/my_work/validation/raw/instances_val2017.json'\n",
      "Downloading 100 images\n",
      " 100% |██████████████████| 100/100 [1.4s elapsed, 0s remaining, 97.4 images/s]         \n",
      "Writing annotations for 100 downloaded samples to '/home/jovyan/my_work//validation/validation/labels.json'\n",
      "Dataset info written to '/home/jovyan/my_work//validation/info.json'\n",
      "Loading 'coco-2017' split 'validation'\n",
      " 100% |█████████████████| 100/100 [2.0s elapsed, 0s remaining, 52.5 samples/s]         \n",
      "Dataset 'coco-2017-validation-100' created\n"
     ]
    }
   ],
   "source": [
    "# To download the COCO dataset for only the \"person\" and \"car\" classes\n",
    "validation_data= foz.load_zoo_dataset(\n",
    "    \"coco-2017\",\n",
    "    split=\"validation\",\n",
    "    label_types=[\"detections\", \"segmentations\"],\n",
    "    classes=[\"person\", \"dog\"],\n",
    "    max_samples=100,\n",
    "    dataset_dir = PATH + '/validation/'\n",
    ")"
   ]
  },
  {
   "cell_type": "code",
   "execution_count": 18,
   "id": "5217a004-f5c2-4d67-9296-5a1809a60f65",
   "metadata": {},
   "outputs": [
    {
     "name": "stdout",
     "output_type": "stream",
     "text": [
      "Downloading split 'test' to '/home/jovyan/my_work//test/test' if necessary\n",
      "Test split is unlabeled; ignoring classes requirement\n",
      "Downloading test info to '/home/jovyan/my_work//test/tmp-download/image_info_test2017.zip'\n",
      " 100% |██████|    8.7Mb/8.7Mb [506.9ms elapsed, 0s remaining, 17.2Mb/s]      \n",
      "Extracting test info to '/home/jovyan/my_work/test/raw/image_info_test2017.json'\n",
      "Downloading 300 images\n",
      " 100% |██████████████████| 300/300 [3.2s elapsed, 0s remaining, 107.5 images/s]      \n",
      "Writing annotations for 300 downloaded samples to '/home/jovyan/my_work//test/test/labels.json'\n",
      "Dataset info written to '/home/jovyan/my_work//test/info.json'\n",
      "Loading 'coco-2017' split 'test'\n",
      "Dataset is unlabeled; ignoring classes requirement\n",
      " 100% |█████████████████| 300/300 [131.1ms elapsed, 0s remaining, 2.4K samples/s]  \n",
      "Dataset 'coco-2017-test-300' created\n"
     ]
    }
   ],
   "source": [
    "test_data= foz.load_zoo_dataset(\n",
    "    \"coco-2017\",\n",
    "    split=\"test\",\n",
    "    label_types=[\"detections\", \"segmentations\"],\n",
    "    classes=[\"person\", \"dog\"],\n",
    "    max_samples=300,\n",
    "    dataset_dir = PATH + '/test/'\n",
    ")"
   ]
  },
  {
   "cell_type": "code",
   "execution_count": 19,
   "id": "38568810-2b25-484c-a5f3-62652296f187",
   "metadata": {},
   "outputs": [
    {
     "data": {
      "text/plain": [
       "Name:        coco-2017-train-2000\n",
       "Media type:  None\n",
       "Num samples: 0\n",
       "Persistent:  False\n",
       "Tags:        []\n",
       "Sample fields:\n",
       "    id:       fiftyone.core.fields.ObjectIdField\n",
       "    filepath: fiftyone.core.fields.StringField\n",
       "    tags:     fiftyone.core.fields.ListField(fiftyone.core.fields.StringField)\n",
       "    metadata: fiftyone.core.fields.EmbeddedDocumentField(fiftyone.core.metadata.Metadata)"
      ]
     },
     "execution_count": 19,
     "metadata": {},
     "output_type": "execute_result"
    }
   ],
   "source": [
    "dataset"
   ]
  },
  {
   "cell_type": "code",
   "execution_count": 25,
   "id": "0ef3fdfb-812c-476a-a363-988e8bfa0b74",
   "metadata": {},
   "outputs": [],
   "source": [
    "train_data_path = PATH + '/train/train/data/'\n",
    "test_data_path = PATH + '/test/test/data/'"
   ]
  },
  {
   "cell_type": "code",
   "execution_count": 26,
   "id": "3c8b6d34-9bef-4df9-b95f-959790ae1767",
   "metadata": {},
   "outputs": [],
   "source": [
    "# Remember to change image shape if you are having different size of images\n",
    "new_shape = (384,384)\n",
    "\n",
    "def load_images(image_folder):\n",
    "    image_filenames = os.listdir(image_folder)\n",
    "    images = []\n",
    "    for filename in image_filenames:\n",
    "        img = cv2.imread(os.path.join(image_folder, filename))\n",
    "        img = cv2.cvtColor(img, cv2.COLOR_BGR2RGB)\n",
    "        img = resize(img, new_shape, mode='reflect', anti_aliasing=True)\n",
    "        ##img = img.astype(np.float32) / 255.0\n",
    "        images.append(img)\n",
    "    return np.array(images)\n",
    "\n",
    "# Load images\n",
    "X_train = load_images(train_data_path)\n",
    "X_test = load_images(test_data_path)"
   ]
  },
  {
   "cell_type": "code",
   "execution_count": 27,
   "id": "58ea53d8-0964-4dec-9bc2-6613c0936625",
   "metadata": {},
   "outputs": [
    {
     "name": "stdout",
     "output_type": "stream",
     "text": [
      "here_hr\n"
     ]
    }
   ],
   "source": [
    "x_train_hr = hr_images(X_train)\n",
    "x_train_lr = lr_images(X_train, 4)"
   ]
  },
  {
   "cell_type": "code",
   "execution_count": 28,
   "id": "8c98081b-35a3-4913-905a-db362d717d16",
   "metadata": {},
   "outputs": [
    {
     "name": "stdout",
     "output_type": "stream",
     "text": [
      "here_hr\n"
     ]
    }
   ],
   "source": [
    "x_test_hr = hr_images(X_test)\n",
    "x_test_lr = lr_images(X_test, 4)"
   ]
  },
  {
   "cell_type": "code",
   "execution_count": 29,
   "id": "4862f3c0-768e-43bc-a24f-7ea1644601c1",
   "metadata": {},
   "outputs": [
    {
     "data": {
      "text/plain": [
       "(384, 384, 3)"
      ]
     },
     "execution_count": 29,
     "metadata": {},
     "output_type": "execute_result"
    }
   ],
   "source": [
    "x_train_hr[70].shape"
   ]
  },
  {
   "cell_type": "markdown",
   "id": "3b7229a7-7671-4ccf-9fb0-51307fb1cdd5",
   "metadata": {},
   "source": [
    "## GAN Model"
   ]
  },
  {
   "cell_type": "code",
   "execution_count": 30,
   "id": "3208e9c1-ced8-48b7-a821-2d69bf5c6008",
   "metadata": {},
   "outputs": [],
   "source": [
    "# Residual block\n",
    "def res_block_gen(model, kernal_size, filters, strides):    \n",
    "    gen = model\n",
    "    \n",
    "    model = Conv2D(filters = filters, kernel_size = kernal_size, strides = strides, padding = \"same\")(model)\n",
    "    model = BatchNormalization(momentum = 0.5)(model)\n",
    "    # Using Parametric ReLU\n",
    "    model = PReLU(alpha_initializer='zeros', alpha_regularizer=None, alpha_constraint=None, shared_axes=[1,2])(model)\n",
    "    model = Conv2D(filters = filters, kernel_size = kernal_size, strides = strides, padding = \"same\")(model)\n",
    "    model = BatchNormalization(momentum = 0.5)(model)\n",
    "    model = add([gen, model])\n",
    "    return model\n",
    "    \n",
    "    \n",
    "def up_sampling_block(model, kernal_size, filters, strides):\n",
    "    \n",
    "    # In place of Conv2D and UpSampling2D we can also use Conv2DTranspose (Both are used for Deconvolution)\n",
    "    # Even we can have our own function for deconvolution (i.e one made in Utils.py)\n",
    "    #model = Conv2DTranspose(filters = filters, kernel_size = kernal_size, strides = strides, padding = \"same\")(model)\n",
    "    model = Conv2D(filters = filters, kernel_size = kernal_size, strides = strides, padding = \"same\")(model)\n",
    "    model = UpSampling2D(size = 2)(model)\n",
    "    model = LeakyReLU(alpha = 0.2)(model)\n",
    "    \n",
    "    return model\n",
    "  \n",
    "class Generator(object):\n",
    "    def __init__(self, noise_shape):\n",
    "        \n",
    "        self.noise_shape = noise_shape\n",
    "    def generator(self):\n",
    "        \n",
    "        gen_input = Input(shape = self.noise_shape)\n",
    "     \n",
    "        model = Conv2D(filters = 64, kernel_size = 9, strides = 1, padding = \"same\")(gen_input)\n",
    "        model = PReLU(alpha_initializer='zeros', alpha_regularizer=None, alpha_constraint=None, shared_axes=[1,2])(model)\n",
    "        \n",
    "        gen_model = model\n",
    "        \n",
    "        # Using 16 Residual Blocks\n",
    "        for index in range(16):\n",
    "            model = res_block_gen(model, 3, 64, 1)\n",
    "     \n",
    "        model = Conv2D(filters = 64, kernel_size = 3, strides = 1, padding = \"same\")(model)\n",
    "        model = BatchNormalization(momentum = 0.5)(model)\n",
    "        model = add([gen_model, model])\n",
    "     \n",
    "        # Using 2 UpSampling Blocks\n",
    "        for index in range(2):\n",
    "            model = up_sampling_block(model, 3, 256, 1)\n",
    "     \n",
    "        model = Conv2D(filters = 3, kernel_size = 9, strides = 1, padding = \"same\")(model)\n",
    "        model = Activation('tanh')(model)\n",
    "    \n",
    "        generator_model = Model(inputs = gen_input, outputs = model)\n",
    "        return generator_model"
   ]
  },
  {
   "cell_type": "code",
   "execution_count": 31,
   "id": "4e313c71-b2a9-4b01-b63f-0713d152855f",
   "metadata": {},
   "outputs": [],
   "source": [
    "def discriminator_block(model, filters, kernel_size, strides):\n",
    "    \n",
    "    model = Conv2D(filters = filters, kernel_size = kernel_size, strides = strides, padding = \"same\")(model)\n",
    "    model = BatchNormalization(momentum = 0.5)(model)\n",
    "    model = LeakyReLU(alpha = 0.2)(model)\n",
    "    \n",
    "    return model\n",
    "  \n",
    "class Discriminator(object):\n",
    "\n",
    "    def __init__(self, image_shape):\n",
    "        \n",
    "        self.image_shape = image_shape\n",
    "    \n",
    "    def discriminator(self):\n",
    "        \n",
    "        dis_input = Input(shape = self.image_shape)\n",
    "        \n",
    "        model = Conv2D(filters = 64, kernel_size = 3, strides = 1, padding = \"same\")(dis_input)\n",
    "        model = LeakyReLU(alpha = 0.2)(model)\n",
    "        \n",
    "        model = discriminator_block(model, 64, 3, 2)\n",
    "        model = discriminator_block(model, 128, 3, 1)\n",
    "        model = discriminator_block(model, 128, 3, 2)\n",
    "        model = discriminator_block(model, 256, 3, 1)\n",
    "        model = discriminator_block(model, 256, 3, 2)\n",
    "        model = discriminator_block(model, 512, 3, 1)\n",
    "        model = discriminator_block(model, 512, 3, 2)\n",
    "        \n",
    "        model = Flatten()(model)\n",
    "        model = Dense(1024)(model)\n",
    "        model = LeakyReLU(alpha = 0.2)(model)\n",
    "       \n",
    "        model = Dense(1)(model)\n",
    "        model = Activation('sigmoid')(model) \n",
    "        \n",
    "        discriminator_model = Model(inputs = dis_input, outputs = model)\n",
    "        \n",
    "        return discriminator_model"
   ]
  },
  {
   "cell_type": "code",
   "execution_count": 32,
   "id": "7b60fb02-f690-45e3-a0d4-3705b003092c",
   "metadata": {},
   "outputs": [],
   "source": [
    "def vgg_loss(y_true, y_pred, model):\n",
    "    return K.mean(K.square(model(y_true) - model(y_pred)))\n",
    "\n",
    "def vgg_loss_wrapper(image_shape):\n",
    "    vgg19 = VGG19(include_top=False, weights='imagenet', input_shape=image_shape)\n",
    "    vgg19.trainable = False\n",
    "    for l in vgg19.layers:\n",
    "        l.trainable = False\n",
    "    model = Model(inputs=vgg19.input, outputs=vgg19.get_layer('block5_conv4').output)\n",
    "    model.trainable = False\n",
    "\n",
    "    def loss_function(y_true, y_pred):\n",
    "        return vgg_loss(y_true, y_pred, model)\n",
    "    \n",
    "    return loss_function"
   ]
  },
  {
   "cell_type": "code",
   "execution_count": 33,
   "id": "9a99310e-2b9d-42e4-bf16-66bd87297233",
   "metadata": {},
   "outputs": [],
   "source": [
    "def get_gan_network(discriminator, shape, generator, optimizer, vgg_loss):\n",
    "    discriminator.trainable = False\n",
    "    gan_input = Input(shape=shape)\n",
    "    x = generator(gan_input)\n",
    "    gan_output = discriminator(x)\n",
    "    gan = Model(inputs=gan_input, outputs=[x,gan_output])\n",
    "    gan.compile(loss=[vgg_loss, \"binary_crossentropy\"], loss_weights=[1., 1e-3], optimizer=optimizer)\n",
    "\n",
    "    return gan"
   ]
  },
  {
   "cell_type": "code",
   "execution_count": 34,
   "id": "03e4c5fe-a383-44ca-82d2-acdb2df0e962",
   "metadata": {},
   "outputs": [],
   "source": [
    "def get_optimizer():\n",
    "    \n",
    "    adam = Adam(lr=1E-4, beta_1=0.9, beta_2=0.999, epsilon=1e-08)\n",
    "    return adam"
   ]
  },
  {
   "cell_type": "code",
   "execution_count": 35,
   "id": "908a6a58-17cc-46fd-8d8f-b9ce16f5067b",
   "metadata": {},
   "outputs": [],
   "source": [
    "# While training save generated image(in form LR, SR, HR)\n",
    "# Save only one image as sample  \n",
    "def plot_generated_images(output_dir, epoch, generator, x_test_hr, x_test_lr , dim=(1, 3), figsize=(15, 5)):\n",
    "    \n",
    "    examples = x_test_hr.shape[0]\n",
    "    print(examples)\n",
    "    value = np.random.randint(0, examples)\n",
    "    image_batch_hr = denormalize(x_test_hr)\n",
    "    image_batch_lr = x_test_lr\n",
    "    gen_img = generator.predict(image_batch_lr)\n",
    "    generated_image = denormalize(gen_img)\n",
    "    image_batch_lr = denormalize(image_batch_lr)\n",
    "    \n",
    "    plt.figure(figsize=figsize)\n",
    "    \n",
    "    plt.subplot(dim[0], dim[1], 1)\n",
    "    plt.imshow(image_batch_lr[value], interpolation='nearest')\n",
    "    plt.axis('off')\n",
    "        \n",
    "    plt.subplot(dim[0], dim[1], 2)\n",
    "    plt.imshow(generated_image[value], interpolation='nearest')\n",
    "    plt.axis('off')\n",
    "    \n",
    "    plt.subplot(dim[0], dim[1], 3)\n",
    "    plt.imshow(image_batch_hr[value], interpolation='nearest')\n",
    "    plt.axis('off')\n",
    "    \n",
    "    plt.tight_layout()\n",
    "    plt.savefig(output_dir + 'generated_image_%d.png' % epoch)\n",
    "    \n",
    "    #plt.show()\n",
    "    \n",
    "# Plots and save generated images(in form LR, SR, HR) from model to test the model \n",
    "# Save output for all images given for testing  \n",
    "def plot_test_generated_images_for_model(output_dir, generator, x_test_hr, x_test_lr , dim=(1, 3), figsize=(15, 5)):\n",
    "    \n",
    "    examples = x_test_hr.shape[0]\n",
    "    image_batch_hr = denormalize(x_test_hr)\n",
    "    image_batch_lr = x_test_lr\n",
    "    gen_img = generator.predict(image_batch_lr)\n",
    "    generated_image = denormalize(gen_img)\n",
    "    image_batch_lr = denormalize(image_batch_lr)\n",
    "    \n",
    "    for index in range(examples):\n",
    "    \n",
    "        plt.figure(figsize=figsize)\n",
    "    \n",
    "        plt.subplot(dim[0], dim[1], 1)\n",
    "        plt.imshow(image_batch_lr[index], interpolation='nearest')\n",
    "        plt.axis('off')\n",
    "        \n",
    "        plt.subplot(dim[0], dim[1], 2)\n",
    "        plt.imshow(generated_image[index], interpolation='nearest')\n",
    "        plt.axis('off')\n",
    "    \n",
    "        plt.subplot(dim[0], dim[1], 3)\n",
    "        plt.imshow(image_batch_hr[index], interpolation='nearest')\n",
    "        plt.axis('off')\n",
    "    \n",
    "        plt.tight_layout()\n",
    "        plt.savefig(output_dir + 'test_generated_image_%d.png' % index)\n",
    "    \n",
    "        #plt.show()\n",
    "\n",
    "# Takes LR images and save respective HR images\n",
    "def plot_test_generated_images(output_dir, generator, x_test_lr, figsize=(5, 5)):\n",
    "    \n",
    "    examples = x_test_lr.shape[0]\n",
    "    image_batch_lr = denormalize(x_test_lr)\n",
    "    gen_img = generator.predict(image_batch_lr)\n",
    "    generated_image = denormalize(gen_img)\n",
    "    \n",
    "    for index in range(examples):\n",
    "    \n",
    "        plt.figure(figsize=figsize)\n",
    "        plt.imshow(generated_image[index], interpolation='nearest')\n",
    "        plt.axis('off')\n",
    "        \n",
    "        plt.tight_layout()\n",
    "        plt.savefig(output_dir + 'high_res_result_image_%d.png' % index)\n",
    "        plt.show()"
   ]
  },
  {
   "cell_type": "code",
   "execution_count": 71,
   "id": "e8e35a89-9c65-4eb0-af43-0ef5ff92a52b",
   "metadata": {},
   "outputs": [],
   "source": [
    "# Better to use downscale factor as 4\n",
    "downscale = 4\n",
    "image_shape = (384,384,3)\n",
    "\n",
    "def train(epochs, batch_size, output_dir, model_save_dir):\n",
    "    # Loads training and test data\n",
    "    batch_count = int(x_train_hr.shape[0] / batch_size)\n",
    "    shape = (image_shape[0]//downscale, image_shape[1]//downscale, image_shape[2])\n",
    "    \n",
    "    generator = Generator(shape).generator()\n",
    "    discriminator = Discriminator(image_shape).discriminator()\n",
    "\n",
    "    optimizer = get_optimizer()\n",
    "    loss_function = vgg_loss_wrapper(image_shape)\n",
    "    generator.compile(loss=loss_function, optimizer=optimizer) #loss = vgg_loss\n",
    "    discriminator.compile(loss=\"binary_crossentropy\", optimizer=optimizer)\n",
    "    \n",
    "    gan = get_gan_network(discriminator, shape, generator, optimizer, loss_function)\n",
    "    \n",
    "    loss_file = open(model_save_dir + 'losses.txt' , 'w+')\n",
    "    loss_file.close()\n",
    "\n",
    "    for e in range(1, epochs+1):\n",
    "        print ('-'*15, 'Epoch %d' % e, '-'*15)\n",
    "        for _ in tqdm(range(batch_count)):\n",
    "            \n",
    "            rand_nums = np.random.randint(0, x_train_hr.shape[0], size=batch_size).astype(int)\n",
    "            image_batch_hr = np.array([x_train_hr[i] for i in rand_nums])\n",
    "            image_batch_lr = np.array([x_train_lr[i] for i in rand_nums])\n",
    "            generated_images_sr = generator.predict(image_batch_lr)\n",
    "\n",
    "            real_data_Y = np.ones(batch_size) - np.random.random_sample(batch_size)*0.2\n",
    "            fake_data_Y = np.random.random_sample(batch_size)*0.2\n",
    "            \n",
    "            discriminator.trainable = True\n",
    "            \n",
    "            d_loss_real = discriminator.train_on_batch(image_batch_hr, real_data_Y)\n",
    "            d_loss_fake = discriminator.train_on_batch(generated_images_sr, fake_data_Y)\n",
    "            discriminator_loss = 0.5 * np.add(d_loss_fake, d_loss_real)\n",
    "            \n",
    "            rand_nums = np.random.randint(0, len(x_train_hr), size=batch_size).astype(int)\n",
    "            image_batch_hr = np.array([x_train_hr[i] for i in rand_nums])\n",
    "            image_batch_lr = np.array([x_train_lr[i] for i in rand_nums])\n",
    "\n",
    "            gan_Y = np.ones(batch_size) - np.random.random_sample(batch_size)*0.2\n",
    "            discriminator.trainable = False\n",
    "            gan_loss = gan.train_on_batch(image_batch_lr, [image_batch_hr,gan_Y])\n",
    "            \n",
    "            \n",
    "        print(\"discriminator_loss : %f\" % discriminator_loss)\n",
    "        print(\"gan_loss :\", gan_loss)\n",
    "        gan_loss = str(gan_loss)\n",
    "        \n",
    "        loss_file = open(model_save_dir + 'losses.txt' , 'a')\n",
    "        loss_file.write('epoch%d : gan_loss = %s ; discriminator_loss = %f\\n' %(e, gan_loss, discriminator_loss) )\n",
    "        loss_file.close()\n",
    "\n",
    "        if e == 1 or e % 10 == 0:\n",
    "            #plot_generated_images(output_dir, e, generator, x_test_hr, x_test_lr)\n",
    "            generator.save(model_save_dir + 'gen_model_2_%d.h5' % e)\n",
    "            discriminator.save(model_save_dir + 'dis_model_2_%d.h5' % e)"
   ]
  },
  {
   "cell_type": "code",
   "execution_count": 72,
   "id": "62740379-14ae-4023-bf58-7f8e86b44f39",
   "metadata": {},
   "outputs": [
    {
     "name": "stderr",
     "output_type": "stream",
     "text": [
      "/opt/conda/lib/python3.8/site-packages/keras/optimizer_v2/adam.py:105: UserWarning: The `lr` argument is deprecated, use `learning_rate` instead.\n",
      "  super(Adam, self).__init__(name, **kwargs)\n"
     ]
    },
    {
     "name": "stdout",
     "output_type": "stream",
     "text": [
      "--------------- Epoch 1 ---------------\n"
     ]
    },
    {
     "name": "stderr",
     "output_type": "stream",
     "text": [
      "100%|██████████| 125/125 [03:25<00:00,  1.64s/it]\n",
      "/opt/conda/lib/python3.8/site-packages/keras/engine/functional.py:1410: CustomMaskWarning: Custom mask layers require a config and must override get_config. When loading, the custom mask layer must be passed to the custom_objects argument.\n",
      "  layer_config = serialize_layer_fn(layer)\n"
     ]
    },
    {
     "name": "stdout",
     "output_type": "stream",
     "text": [
      "discriminator_loss : 0.392002\n",
      "gan_loss : [0.0009054297115653753, 3.868153362418525e-05, 0.8667480945587158]\n",
      "--------------- Epoch 2 ---------------\n"
     ]
    },
    {
     "name": "stderr",
     "output_type": "stream",
     "text": [
      "100%|██████████| 125/125 [03:17<00:00,  1.58s/it]\n"
     ]
    },
    {
     "name": "stdout",
     "output_type": "stream",
     "text": [
      "discriminator_loss : 6.039697\n",
      "gan_loss : [0.0021267244592309, 3.0589275411330163e-05, 2.096135139465332]\n",
      "--------------- Epoch 3 ---------------\n"
     ]
    },
    {
     "name": "stderr",
     "output_type": "stream",
     "text": [
      "100%|██████████| 125/125 [03:17<00:00,  1.58s/it]\n"
     ]
    },
    {
     "name": "stdout",
     "output_type": "stream",
     "text": [
      "discriminator_loss : 0.806020\n",
      "gan_loss : [0.0024424062576144934, 3.3526550396345556e-05, 2.4088797569274902]\n",
      "--------------- Epoch 4 ---------------\n"
     ]
    },
    {
     "name": "stderr",
     "output_type": "stream",
     "text": [
      "100%|██████████| 125/125 [03:17<00:00,  1.58s/it]\n"
     ]
    },
    {
     "name": "stdout",
     "output_type": "stream",
     "text": [
      "discriminator_loss : 4.266230\n",
      "gan_loss : [0.0024220915511250496, 3.736629878403619e-05, 2.3847250938415527]\n",
      "--------------- Epoch 5 ---------------\n"
     ]
    },
    {
     "name": "stderr",
     "output_type": "stream",
     "text": [
      "100%|██████████| 125/125 [03:18<00:00,  1.58s/it]\n"
     ]
    },
    {
     "name": "stdout",
     "output_type": "stream",
     "text": [
      "discriminator_loss : 1.009792\n",
      "gan_loss : [0.000552332610823214, 3.382009163033217e-05, 0.518512487411499]\n",
      "--------------- Epoch 6 ---------------\n"
     ]
    },
    {
     "name": "stderr",
     "output_type": "stream",
     "text": [
      "100%|██████████| 125/125 [03:17<00:00,  1.58s/it]\n"
     ]
    },
    {
     "name": "stdout",
     "output_type": "stream",
     "text": [
      "discriminator_loss : 0.872594\n",
      "gan_loss : [0.0011649279622361064, 2.7460499040898867e-05, 1.137467384338379]\n",
      "--------------- Epoch 7 ---------------\n"
     ]
    },
    {
     "name": "stderr",
     "output_type": "stream",
     "text": [
      "100%|██████████| 125/125 [03:16<00:00,  1.57s/it]\n"
     ]
    },
    {
     "name": "stdout",
     "output_type": "stream",
     "text": [
      "discriminator_loss : 0.842507\n",
      "gan_loss : [0.00041967013385146856, 4.9690966989146546e-05, 0.3699791431427002]\n",
      "--------------- Epoch 8 ---------------\n"
     ]
    },
    {
     "name": "stderr",
     "output_type": "stream",
     "text": [
      "100%|██████████| 125/125 [03:17<00:00,  1.58s/it]\n"
     ]
    },
    {
     "name": "stdout",
     "output_type": "stream",
     "text": [
      "discriminator_loss : 0.508500\n",
      "gan_loss : [0.0006555949221365154, 2.82730416074628e-05, 0.6273218393325806]\n",
      "--------------- Epoch 9 ---------------\n"
     ]
    },
    {
     "name": "stderr",
     "output_type": "stream",
     "text": [
      "100%|██████████| 125/125 [03:15<00:00,  1.57s/it]\n"
     ]
    },
    {
     "name": "stdout",
     "output_type": "stream",
     "text": [
      "discriminator_loss : 1.354884\n",
      "gan_loss : [0.0015998665476217866, 3.7514237192226574e-05, 1.562352180480957]\n",
      "--------------- Epoch 10 ---------------\n"
     ]
    },
    {
     "name": "stderr",
     "output_type": "stream",
     "text": [
      "100%|██████████| 125/125 [03:15<00:00,  1.56s/it]\n"
     ]
    },
    {
     "name": "stdout",
     "output_type": "stream",
     "text": [
      "discriminator_loss : 0.967394\n",
      "gan_loss : [0.00042468722676858306, 3.853866655845195e-05, 0.3861485421657562]\n",
      "--------------- Epoch 11 ---------------\n"
     ]
    },
    {
     "name": "stderr",
     "output_type": "stream",
     "text": [
      "100%|██████████| 125/125 [03:15<00:00,  1.56s/it]\n"
     ]
    },
    {
     "name": "stdout",
     "output_type": "stream",
     "text": [
      "discriminator_loss : 1.418688\n",
      "gan_loss : [0.00032508213189430535, 3.653318344731815e-05, 0.28854891657829285]\n",
      "--------------- Epoch 12 ---------------\n"
     ]
    },
    {
     "name": "stderr",
     "output_type": "stream",
     "text": [
      "100%|██████████| 125/125 [03:14<00:00,  1.56s/it]\n"
     ]
    },
    {
     "name": "stdout",
     "output_type": "stream",
     "text": [
      "discriminator_loss : 0.330357\n",
      "gan_loss : [0.0004735332913696766, 3.817024116870016e-05, 0.4353630542755127]\n",
      "--------------- Epoch 13 ---------------\n"
     ]
    },
    {
     "name": "stderr",
     "output_type": "stream",
     "text": [
      "100%|██████████| 125/125 [03:14<00:00,  1.56s/it]\n"
     ]
    },
    {
     "name": "stdout",
     "output_type": "stream",
     "text": [
      "discriminator_loss : 0.442131\n",
      "gan_loss : [0.0018241140060126781, 3.3347110729664564e-05, 1.7907668352127075]\n",
      "--------------- Epoch 14 ---------------\n"
     ]
    },
    {
     "name": "stderr",
     "output_type": "stream",
     "text": [
      "100%|██████████| 125/125 [03:14<00:00,  1.56s/it]\n"
     ]
    },
    {
     "name": "stdout",
     "output_type": "stream",
     "text": [
      "discriminator_loss : 0.530461\n",
      "gan_loss : [0.0010091857984662056, 3.0887902539689094e-05, 0.9782978892326355]\n",
      "--------------- Epoch 15 ---------------\n"
     ]
    },
    {
     "name": "stderr",
     "output_type": "stream",
     "text": [
      "100%|██████████| 125/125 [03:15<00:00,  1.56s/it]\n"
     ]
    },
    {
     "name": "stdout",
     "output_type": "stream",
     "text": [
      "discriminator_loss : 1.664015\n",
      "gan_loss : [0.002249400829896331, 2.5005065253935754e-05, 2.224395751953125]\n",
      "--------------- Epoch 16 ---------------\n"
     ]
    },
    {
     "name": "stderr",
     "output_type": "stream",
     "text": [
      "100%|██████████| 125/125 [03:15<00:00,  1.56s/it]\n"
     ]
    },
    {
     "name": "stdout",
     "output_type": "stream",
     "text": [
      "discriminator_loss : 0.457586\n",
      "gan_loss : [0.000900167622603476, 3.70589732483495e-05, 0.8631086349487305]\n",
      "--------------- Epoch 17 ---------------\n"
     ]
    },
    {
     "name": "stderr",
     "output_type": "stream",
     "text": [
      "100%|██████████| 125/125 [03:15<00:00,  1.56s/it]\n"
     ]
    },
    {
     "name": "stdout",
     "output_type": "stream",
     "text": [
      "discriminator_loss : 0.588225\n",
      "gan_loss : [0.0007490572752431035, 3.034930705325678e-05, 0.7187079191207886]\n",
      "--------------- Epoch 18 ---------------\n"
     ]
    },
    {
     "name": "stderr",
     "output_type": "stream",
     "text": [
      "100%|██████████| 125/125 [03:15<00:00,  1.56s/it]\n"
     ]
    },
    {
     "name": "stdout",
     "output_type": "stream",
     "text": [
      "discriminator_loss : 0.341816\n",
      "gan_loss : [0.0003760144463740289, 3.223720705136657e-05, 0.34377720952033997]\n",
      "--------------- Epoch 19 ---------------\n"
     ]
    },
    {
     "name": "stderr",
     "output_type": "stream",
     "text": [
      "100%|██████████| 125/125 [03:15<00:00,  1.56s/it]\n"
     ]
    },
    {
     "name": "stdout",
     "output_type": "stream",
     "text": [
      "discriminator_loss : 0.385010\n",
      "gan_loss : [0.00034367351327091455, 3.789017500821501e-05, 0.30578333139419556]\n",
      "--------------- Epoch 20 ---------------\n"
     ]
    },
    {
     "name": "stderr",
     "output_type": "stream",
     "text": [
      "100%|██████████| 125/125 [03:16<00:00,  1.57s/it]\n"
     ]
    },
    {
     "name": "stdout",
     "output_type": "stream",
     "text": [
      "discriminator_loss : 0.379510\n",
      "gan_loss : [0.0005751907592639327, 3.257756543462165e-05, 0.5426132082939148]\n",
      "--------------- Epoch 21 ---------------\n"
     ]
    },
    {
     "name": "stderr",
     "output_type": "stream",
     "text": [
      "100%|██████████| 125/125 [03:17<00:00,  1.58s/it]\n"
     ]
    },
    {
     "name": "stdout",
     "output_type": "stream",
     "text": [
      "discriminator_loss : 0.434753\n",
      "gan_loss : [0.0030555534176528454, 4.7241977881640196e-05, 3.0083112716674805]\n",
      "--------------- Epoch 22 ---------------\n"
     ]
    },
    {
     "name": "stderr",
     "output_type": "stream",
     "text": [
      "100%|██████████| 125/125 [03:15<00:00,  1.56s/it]\n"
     ]
    },
    {
     "name": "stdout",
     "output_type": "stream",
     "text": [
      "discriminator_loss : 1.304627\n",
      "gan_loss : [0.0005710296100005507, 3.916778223356232e-05, 0.5318618416786194]\n",
      "--------------- Epoch 23 ---------------\n"
     ]
    },
    {
     "name": "stderr",
     "output_type": "stream",
     "text": [
      "100%|██████████| 125/125 [03:15<00:00,  1.56s/it]\n"
     ]
    },
    {
     "name": "stdout",
     "output_type": "stream",
     "text": [
      "discriminator_loss : 1.518076\n",
      "gan_loss : [0.0005165233160369098, 5.036436050431803e-05, 0.466158926486969]\n",
      "--------------- Epoch 24 ---------------\n"
     ]
    },
    {
     "name": "stderr",
     "output_type": "stream",
     "text": [
      "100%|██████████| 125/125 [03:14<00:00,  1.56s/it]\n"
     ]
    },
    {
     "name": "stdout",
     "output_type": "stream",
     "text": [
      "discriminator_loss : 0.367111\n",
      "gan_loss : [0.0003724861308000982, 3.289848973508924e-05, 0.33958762884140015]\n",
      "--------------- Epoch 25 ---------------\n"
     ]
    },
    {
     "name": "stderr",
     "output_type": "stream",
     "text": [
      "100%|██████████| 125/125 [03:15<00:00,  1.56s/it]\n"
     ]
    },
    {
     "name": "stdout",
     "output_type": "stream",
     "text": [
      "discriminator_loss : 0.330915\n",
      "gan_loss : [0.00038887784467078745, 4.6627763367723674e-05, 0.3422500491142273]\n",
      "--------------- Epoch 26 ---------------\n"
     ]
    },
    {
     "name": "stderr",
     "output_type": "stream",
     "text": [
      "100%|██████████| 125/125 [03:15<00:00,  1.57s/it]\n"
     ]
    },
    {
     "name": "stdout",
     "output_type": "stream",
     "text": [
      "discriminator_loss : 0.348358\n",
      "gan_loss : [0.0005655362037941813, 3.273235051892698e-05, 0.5328038334846497]\n",
      "--------------- Epoch 27 ---------------\n"
     ]
    },
    {
     "name": "stderr",
     "output_type": "stream",
     "text": [
      "100%|██████████| 125/125 [03:15<00:00,  1.56s/it]\n"
     ]
    },
    {
     "name": "stdout",
     "output_type": "stream",
     "text": [
      "discriminator_loss : 0.337597\n",
      "gan_loss : [0.00037762895226478577, 3.8943151594139636e-05, 0.3386858105659485]\n",
      "--------------- Epoch 28 ---------------\n"
     ]
    },
    {
     "name": "stderr",
     "output_type": "stream",
     "text": [
      "100%|██████████| 125/125 [03:15<00:00,  1.56s/it]\n"
     ]
    },
    {
     "name": "stdout",
     "output_type": "stream",
     "text": [
      "discriminator_loss : 0.351753\n",
      "gan_loss : [0.00039458952960558236, 5.0263693992746994e-05, 0.34432584047317505]\n",
      "--------------- Epoch 29 ---------------\n"
     ]
    },
    {
     "name": "stderr",
     "output_type": "stream",
     "text": [
      "100%|██████████| 125/125 [03:14<00:00,  1.56s/it]\n"
     ]
    },
    {
     "name": "stdout",
     "output_type": "stream",
     "text": [
      "discriminator_loss : 0.341393\n",
      "gan_loss : [0.0015362908598035574, 3.847669358947314e-05, 1.4978141784667969]\n",
      "--------------- Epoch 30 ---------------\n"
     ]
    },
    {
     "name": "stderr",
     "output_type": "stream",
     "text": [
      "100%|██████████| 125/125 [03:15<00:00,  1.56s/it]\n"
     ]
    },
    {
     "name": "stdout",
     "output_type": "stream",
     "text": [
      "discriminator_loss : 0.335131\n",
      "gan_loss : [0.00045661028707399964, 3.177511098328978e-05, 0.4248351752758026]\n",
      "--------------- Epoch 31 ---------------\n"
     ]
    },
    {
     "name": "stderr",
     "output_type": "stream",
     "text": [
      "100%|██████████| 125/125 [03:15<00:00,  1.56s/it]\n"
     ]
    },
    {
     "name": "stdout",
     "output_type": "stream",
     "text": [
      "discriminator_loss : 0.352653\n",
      "gan_loss : [0.0005881203687749803, 3.481452586129308e-05, 0.5533058047294617]\n",
      "--------------- Epoch 32 ---------------\n"
     ]
    },
    {
     "name": "stderr",
     "output_type": "stream",
     "text": [
      "100%|██████████| 125/125 [03:15<00:00,  1.56s/it]\n"
     ]
    },
    {
     "name": "stdout",
     "output_type": "stream",
     "text": [
      "discriminator_loss : 0.347383\n",
      "gan_loss : [0.0005350072751753032, 4.621250263880938e-05, 0.48879474401474]\n",
      "--------------- Epoch 33 ---------------\n"
     ]
    },
    {
     "name": "stderr",
     "output_type": "stream",
     "text": [
      "100%|██████████| 125/125 [03:16<00:00,  1.57s/it]\n"
     ]
    },
    {
     "name": "stdout",
     "output_type": "stream",
     "text": [
      "discriminator_loss : 0.313239\n",
      "gan_loss : [0.0006230276776477695, 4.031347270938568e-05, 0.5827142000198364]\n",
      "--------------- Epoch 34 ---------------\n"
     ]
    },
    {
     "name": "stderr",
     "output_type": "stream",
     "text": [
      "100%|██████████| 125/125 [03:16<00:00,  1.57s/it]\n"
     ]
    },
    {
     "name": "stdout",
     "output_type": "stream",
     "text": [
      "discriminator_loss : 0.360868\n",
      "gan_loss : [0.0005083912401460111, 2.8380125513649546e-05, 0.48001107573509216]\n",
      "--------------- Epoch 35 ---------------\n"
     ]
    },
    {
     "name": "stderr",
     "output_type": "stream",
     "text": [
      "100%|██████████| 125/125 [03:17<00:00,  1.58s/it]\n"
     ]
    },
    {
     "name": "stdout",
     "output_type": "stream",
     "text": [
      "discriminator_loss : 0.373371\n",
      "gan_loss : [0.0008594250539317727, 5.564527600654401e-05, 0.8037797212600708]\n",
      "--------------- Epoch 36 ---------------\n"
     ]
    },
    {
     "name": "stderr",
     "output_type": "stream",
     "text": [
      "100%|██████████| 125/125 [03:17<00:00,  1.58s/it]\n"
     ]
    },
    {
     "name": "stdout",
     "output_type": "stream",
     "text": [
      "discriminator_loss : 0.329096\n",
      "gan_loss : [0.0008710173424333334, 4.5611293899128214e-05, 0.825406014919281]\n",
      "--------------- Epoch 37 ---------------\n"
     ]
    },
    {
     "name": "stderr",
     "output_type": "stream",
     "text": [
      "100%|██████████| 125/125 [03:18<00:00,  1.59s/it]\n"
     ]
    },
    {
     "name": "stdout",
     "output_type": "stream",
     "text": [
      "discriminator_loss : 0.315250\n",
      "gan_loss : [0.00037954794242978096, 2.7468166081234813e-05, 0.35207974910736084]\n",
      "--------------- Epoch 38 ---------------\n"
     ]
    },
    {
     "name": "stderr",
     "output_type": "stream",
     "text": [
      "100%|██████████| 125/125 [03:17<00:00,  1.58s/it]\n"
     ]
    },
    {
     "name": "stdout",
     "output_type": "stream",
     "text": [
      "discriminator_loss : 0.345527\n",
      "gan_loss : [0.0006118693854659796, 4.0956514567369595e-05, 0.5709128379821777]\n",
      "--------------- Epoch 39 ---------------\n"
     ]
    },
    {
     "name": "stderr",
     "output_type": "stream",
     "text": [
      "100%|██████████| 125/125 [03:17<00:00,  1.58s/it]\n"
     ]
    },
    {
     "name": "stdout",
     "output_type": "stream",
     "text": [
      "discriminator_loss : 0.362325\n",
      "gan_loss : [0.0006493919645436108, 2.980362478410825e-05, 0.619588315486908]\n",
      "--------------- Epoch 40 ---------------\n"
     ]
    },
    {
     "name": "stderr",
     "output_type": "stream",
     "text": [
      "100%|██████████| 125/125 [03:17<00:00,  1.58s/it]\n"
     ]
    },
    {
     "name": "stdout",
     "output_type": "stream",
     "text": [
      "discriminator_loss : 0.315669\n",
      "gan_loss : [0.0006608098046854138, 4.7304834879469126e-05, 0.613504946231842]\n",
      "--------------- Epoch 41 ---------------\n"
     ]
    },
    {
     "name": "stderr",
     "output_type": "stream",
     "text": [
      "100%|██████████| 125/125 [03:17<00:00,  1.58s/it]\n"
     ]
    },
    {
     "name": "stdout",
     "output_type": "stream",
     "text": [
      "discriminator_loss : 0.331413\n",
      "gan_loss : [0.0009604650549590588, 3.823234874289483e-05, 0.9222326278686523]\n",
      "--------------- Epoch 42 ---------------\n"
     ]
    },
    {
     "name": "stderr",
     "output_type": "stream",
     "text": [
      "100%|██████████| 125/125 [03:17<00:00,  1.58s/it]\n"
     ]
    },
    {
     "name": "stdout",
     "output_type": "stream",
     "text": [
      "discriminator_loss : 0.347183\n",
      "gan_loss : [0.0006828061887063086, 3.850689608952962e-05, 0.6442992687225342]\n",
      "--------------- Epoch 43 ---------------\n"
     ]
    },
    {
     "name": "stderr",
     "output_type": "stream",
     "text": [
      "100%|██████████| 125/125 [03:17<00:00,  1.58s/it]\n"
     ]
    },
    {
     "name": "stdout",
     "output_type": "stream",
     "text": [
      "discriminator_loss : 0.311995\n",
      "gan_loss : [0.0004961127415299416, 3.072054823860526e-05, 0.46539217233657837]\n",
      "--------------- Epoch 44 ---------------\n"
     ]
    },
    {
     "name": "stderr",
     "output_type": "stream",
     "text": [
      "100%|██████████| 125/125 [03:17<00:00,  1.58s/it]\n"
     ]
    },
    {
     "name": "stdout",
     "output_type": "stream",
     "text": [
      "discriminator_loss : 0.309049\n",
      "gan_loss : [0.0016608433797955513, 3.788539470406249e-05, 1.6229579448699951]\n",
      "--------------- Epoch 45 ---------------\n"
     ]
    },
    {
     "name": "stderr",
     "output_type": "stream",
     "text": [
      "100%|██████████| 125/125 [03:17<00:00,  1.58s/it]\n"
     ]
    },
    {
     "name": "stdout",
     "output_type": "stream",
     "text": [
      "discriminator_loss : 0.343238\n",
      "gan_loss : [0.0007732617668807507, 2.8647336876019835e-05, 0.7446143627166748]\n",
      "--------------- Epoch 46 ---------------\n"
     ]
    },
    {
     "name": "stderr",
     "output_type": "stream",
     "text": [
      "100%|██████████| 125/125 [03:17<00:00,  1.58s/it]\n"
     ]
    },
    {
     "name": "stdout",
     "output_type": "stream",
     "text": [
      "discriminator_loss : 0.357603\n",
      "gan_loss : [0.0006515535642392933, 3.837230906356126e-05, 0.6131812334060669]\n",
      "--------------- Epoch 47 ---------------\n"
     ]
    },
    {
     "name": "stderr",
     "output_type": "stream",
     "text": [
      "100%|██████████| 125/125 [03:19<00:00,  1.59s/it]\n"
     ]
    },
    {
     "name": "stdout",
     "output_type": "stream",
     "text": [
      "discriminator_loss : 0.319676\n",
      "gan_loss : [0.002697798190638423, 4.74264525109902e-05, 2.650371551513672]\n",
      "--------------- Epoch 48 ---------------\n"
     ]
    },
    {
     "name": "stderr",
     "output_type": "stream",
     "text": [
      "100%|██████████| 125/125 [03:18<00:00,  1.59s/it]\n"
     ]
    },
    {
     "name": "stdout",
     "output_type": "stream",
     "text": [
      "discriminator_loss : 0.355700\n",
      "gan_loss : [0.0003936760767828673, 3.6041463317815214e-05, 0.35763460397720337]\n",
      "--------------- Epoch 49 ---------------\n"
     ]
    },
    {
     "name": "stderr",
     "output_type": "stream",
     "text": [
      "100%|██████████| 125/125 [03:17<00:00,  1.58s/it]\n"
     ]
    },
    {
     "name": "stdout",
     "output_type": "stream",
     "text": [
      "discriminator_loss : 0.346006\n",
      "gan_loss : [0.0006761975819244981, 3.681299858726561e-05, 0.6393845081329346]\n",
      "--------------- Epoch 50 ---------------\n"
     ]
    },
    {
     "name": "stderr",
     "output_type": "stream",
     "text": [
      "100%|██████████| 125/125 [03:17<00:00,  1.58s/it]\n"
     ]
    },
    {
     "name": "stdout",
     "output_type": "stream",
     "text": [
      "discriminator_loss : 0.383306\n",
      "gan_loss : [0.0005801127990707755, 2.653013143572025e-05, 0.5535826683044434]\n",
      "--------------- Epoch 51 ---------------\n"
     ]
    },
    {
     "name": "stderr",
     "output_type": "stream",
     "text": [
      "100%|██████████| 125/125 [03:17<00:00,  1.58s/it]\n"
     ]
    },
    {
     "name": "stdout",
     "output_type": "stream",
     "text": [
      "discriminator_loss : 0.323245\n",
      "gan_loss : [0.000550385972019285, 2.7666126698022708e-05, 0.5227198600769043]\n",
      "--------------- Epoch 52 ---------------\n"
     ]
    },
    {
     "name": "stderr",
     "output_type": "stream",
     "text": [
      "100%|██████████| 125/125 [03:18<00:00,  1.58s/it]\n"
     ]
    },
    {
     "name": "stdout",
     "output_type": "stream",
     "text": [
      "discriminator_loss : 0.328303\n",
      "gan_loss : [0.0005893952329643071, 3.1222465622704476e-05, 0.5581727623939514]\n",
      "--------------- Epoch 53 ---------------\n"
     ]
    },
    {
     "name": "stderr",
     "output_type": "stream",
     "text": [
      "100%|██████████| 125/125 [03:18<00:00,  1.59s/it]\n"
     ]
    },
    {
     "name": "stdout",
     "output_type": "stream",
     "text": [
      "discriminator_loss : 0.333730\n",
      "gan_loss : [0.0013783485628664494, 2.831496749422513e-05, 1.3500335216522217]\n",
      "--------------- Epoch 54 ---------------\n"
     ]
    },
    {
     "name": "stderr",
     "output_type": "stream",
     "text": [
      "100%|██████████| 125/125 [03:17<00:00,  1.58s/it]\n"
     ]
    },
    {
     "name": "stdout",
     "output_type": "stream",
     "text": [
      "discriminator_loss : 0.315233\n",
      "gan_loss : [0.002286695409566164, 4.536243068287149e-05, 2.2413330078125]\n",
      "--------------- Epoch 55 ---------------\n"
     ]
    },
    {
     "name": "stderr",
     "output_type": "stream",
     "text": [
      "100%|██████████| 125/125 [03:18<00:00,  1.59s/it]\n"
     ]
    },
    {
     "name": "stdout",
     "output_type": "stream",
     "text": [
      "discriminator_loss : 0.356617\n",
      "gan_loss : [0.0004906755057163537, 2.7985861379420385e-05, 0.4626896381378174]\n",
      "--------------- Epoch 56 ---------------\n"
     ]
    },
    {
     "name": "stderr",
     "output_type": "stream",
     "text": [
      "100%|██████████| 125/125 [03:17<00:00,  1.58s/it]\n"
     ]
    },
    {
     "name": "stdout",
     "output_type": "stream",
     "text": [
      "discriminator_loss : 0.325065\n",
      "gan_loss : [0.0014107013121247292, 3.976082371082157e-05, 1.3709404468536377]\n",
      "--------------- Epoch 57 ---------------\n"
     ]
    },
    {
     "name": "stderr",
     "output_type": "stream",
     "text": [
      "100%|██████████| 125/125 [03:17<00:00,  1.58s/it]\n"
     ]
    },
    {
     "name": "stdout",
     "output_type": "stream",
     "text": [
      "discriminator_loss : 0.332679\n",
      "gan_loss : [0.0011294040596112609, 3.0162504117470235e-05, 1.0992414951324463]\n",
      "--------------- Epoch 58 ---------------\n"
     ]
    },
    {
     "name": "stderr",
     "output_type": "stream",
     "text": [
      "100%|██████████| 125/125 [03:17<00:00,  1.58s/it]\n"
     ]
    },
    {
     "name": "stdout",
     "output_type": "stream",
     "text": [
      "discriminator_loss : 0.328035\n",
      "gan_loss : [0.0004154095659032464, 4.4335662096273154e-05, 0.3710738718509674]\n",
      "--------------- Epoch 59 ---------------\n"
     ]
    },
    {
     "name": "stderr",
     "output_type": "stream",
     "text": [
      "100%|██████████| 125/125 [03:17<00:00,  1.58s/it]\n"
     ]
    },
    {
     "name": "stdout",
     "output_type": "stream",
     "text": [
      "discriminator_loss : 0.319676\n",
      "gan_loss : [0.0004110171284992248, 2.505091470084153e-05, 0.3859661817550659]\n",
      "--------------- Epoch 60 ---------------\n"
     ]
    },
    {
     "name": "stderr",
     "output_type": "stream",
     "text": [
      "100%|██████████| 125/125 [03:18<00:00,  1.59s/it]\n"
     ]
    },
    {
     "name": "stdout",
     "output_type": "stream",
     "text": [
      "discriminator_loss : 0.363406\n",
      "gan_loss : [0.0006691656308248639, 3.122166890534572e-05, 0.6379439234733582]\n"
     ]
    }
   ],
   "source": [
    "train(60,16, PATH, PATH)"
   ]
  },
  {
   "cell_type": "code",
   "execution_count": null,
   "id": "76c773cb-4e4a-463f-8a09-e7520f524ab2",
   "metadata": {},
   "outputs": [],
   "source": [
    "## Preprocess the test images \n",
    "\n",
    "### Image preprocessing\n",
    "# Takes list of images and provide HR images in form of numpy array\n",
    "def hr_images(images):\n",
    "    images_hr = np.array(images)\n",
    "    ##we normalize the images\n",
    "    images_hr_norm = (images_hr - 127.5)/127.5 \n",
    "    print('here_hr')\n",
    "    return images_hr_norm\n",
    "\n",
    "def downscale_image(image, n):\n",
    "    return rescale(image, 1/n, anti_aliasing=True, multichannel=True)\n",
    "\n",
    "# Takes list of images and provide LR images in form of numpy array\n",
    "def lr_images(images_real , downscale):\n",
    "    \"\"\"\n",
    "    Process a dataset of images and return a new array with low-resolution images.\n",
    "    \n",
    "    Parameters:\n",
    "    X_train (numpy array): The dataset of images as a numpy array.\n",
    "    n (int): The downscaling factor.\n",
    "    \n",
    "    Returns:\n",
    "    numpy array: The dataset with low-resolution images as a numpy array.\n",
    "    \"\"\"\n",
    "    X_train_lowresolution = []\n",
    "    for image in X_train:\n",
    "        low_res_image = downscale_image(image, downscale)\n",
    "        X_train_lowresolution.append(low_res_image)\n",
    "    return X_train_lowresolution\n",
    "\n",
    "\n",
    "def load_images(image_folder):\n",
    "    image_filenames = os.listdir(image_folder)\n",
    "    images = []\n",
    "    for filename in image_filenames:\n",
    "        img = cv2.imread(os.path.join(image_folder, filename))\n",
    "        img = cv2.cvtColor(img, cv2.COLOR_BGR2RGB)\n",
    "        img = resize(img, new_shape, mode='reflect', anti_aliasing=True)\n",
    "        ##img = img.astype(np.float32) / 255.0\n",
    "        images.append(img)\n",
    "    return np.array(images)"
   ]
  },
  {
   "cell_type": "code",
   "execution_count": 70,
   "id": "262660bc-c70a-4a2a-bb70-93149741d626",
   "metadata": {},
   "outputs": [
    {
     "name": "stderr",
     "output_type": "stream",
     "text": [
      "Clipping input data to the valid range for imshow with RGB data ([0..1] for floats or [0..255] for integers).\n"
     ]
    },
    {
     "name": "stdout",
     "output_type": "stream",
     "text": [
      "WARNING:tensorflow:Error in loading the saved optimizer state. As a result, your model is starting with a freshly initialized optimizer.\n"
     ]
    },
    {
     "name": "stderr",
     "output_type": "stream",
     "text": [
      "Clipping input data to the valid range for imshow with RGB data ([0..1] for floats or [0..255] for integers).\n"
     ]
    },
    {
     "data": {
      "text/plain": [
       "(-0.5, 1023.5, 575.5, -0.5)"
      ]
     },
     "execution_count": 70,
     "metadata": {},
     "output_type": "execute_result"
    },
    {
     "data": {
      "image/png": "[encoded data removed]",
      "text/plain": [
       "<Figure size 432x288 with 1 Axes>"
      ]
     },
     "metadata": {
      "needs_background": "light"
     },
     "output_type": "display_data"
    },
    {
     "data": {
      "image/png": "[encoded data removed]",
      "text/plain": [
       "<Figure size 432x288 with 1 Axes>"
      ]
     },
     "metadata": {
      "needs_background": "light"
     },
     "output_type": "display_data"
    }
   ],
   "source": [
    "### TEST THE MODEL WITH A NEW IMAGE ####\n",
    "\n",
    "## load the image \n",
    "IMAGE_PATH = PATH + 'floue_test.jpg'\n",
    "image_test = Image.open(IMAGE_PATH)\n",
    "\n",
    "#convert to numpy array\n",
    "image = np.array(image_test)\n",
    "\n",
    "plt.imshow(image)\n",
    "plt.axis('off')\n",
    "\n",
    "##normalize the image \n",
    "image_test_norm = (image - 127.5)/127.5 \n",
    "\n",
    "##resize \n",
    "shape_test = x_test_lr[0].shape\n",
    "image_test_process = resize(image_test_norm, shape_test, mode='reflect', anti_aliasing=True)\n",
    "plt.imshow(image_test_process)\n",
    "plt.axis('off')\n",
    "\n",
    "## renormalize the image\n",
    "image_test_process = (image_test_process - 127.5) / 127.5\n",
    "#print(image_test_process.shape)\n",
    "\n",
    "# Add batch dimension\n",
    "image_batch_lr = np.expand_dims(image_test_process, axis=0)\n",
    "\n",
    "generator_path = PATH + 'gen_model10.h5'\n",
    "# Load the saved generator model\n",
    "generator = load_model(generator_path, custom_objects={'loss_function': vgg_loss_wrapper(image_shape)})\n",
    "\n",
    "gen_img = generator.predict(image_batch_lr)\n",
    "#generated_image = denormalize(gen_img)\n",
    "#print(gen_img[0])\n",
    "#print(generated_image)\n",
    "    \n",
    "plt.figure()\n",
    "plt.imshow(gen_img[0], interpolation='nearest')\n",
    "plt.imshow(image_test)\n",
    "plt.axis('off')\n",
    "        \n",
    "#plt.tight_layout()\n",
    "#plt.savefig(output_dir + 'high_res_result_image_%d.png' % index)\n",
    "#plt.show()"
   ]
  },
  {
   "cell_type": "code",
   "execution_count": null,
   "id": "f2ad48a8-f90b-465b-91e3-560b01b1b8c7",
   "metadata": {},
   "outputs": [],
   "source": []
  }
 ],
 "metadata": {
  "kernelspec": {
   "display_name": "Python 3 (ipykernel)",
   "language": "python",
   "name": "python3"
  },
  "language_info": {
   "codemirror_mode": {
    "name": "ipython",
    "version": 3
   },
   "file_extension": ".py",
   "mimetype": "text/x-python",
   "name": "python",
   "nbconvert_exporter": "python",
   "pygments_lexer": "ipython3",
   "version": "3.8.13"
  }
 },
 "nbformat": 4,
 "nbformat_minor": 5
}
